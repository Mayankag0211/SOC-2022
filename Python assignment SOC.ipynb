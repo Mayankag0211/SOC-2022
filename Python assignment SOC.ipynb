{
 "cells": [
  {
   "cell_type": "markdown",
   "id": "c9499823",
   "metadata": {},
   "source": []
  },
  {
   "cell_type": "code",
   "execution_count": 94,
   "id": "a74af957",
   "metadata": {},
   "outputs": [],
   "source": [
    "import random as rd\n",
    "import numpy as np\n",
    "import matplotlib.pyplot as plt\n",
    "from statistics import variance\n"
   ]
  },
  {
   "cell_type": "code",
   "execution_count": 95,
   "id": "2e765ee9",
   "metadata": {},
   "outputs": [
    {
     "data": {
      "text/plain": [
       "<matplotlib.collections.PathCollection at 0x2863ce57790>"
      ]
     },
     "execution_count": 95,
     "metadata": {},
     "output_type": "execute_result"
    },
    {
     "data": {
      "image/png": "[encoded data removed]",
      "text/plain": [
       "<Figure size 432x288 with 1 Axes>"
      ]
     },
     "metadata": {
      "needs_background": "light"
     },
     "output_type": "display_data"
    }
   ],
   "source": [
    "xvalues = rd.sample(range(0,100),10)\n",
    "yvalues = rd.sample(range(0,100),10)\n",
    "\n",
    "# initial random dataset \n",
    "plt.scatter(xvalues,yvalues)"
   ]
  },
  {
   "cell_type": "code",
   "execution_count": null,
   "id": "fb752428",
   "metadata": {},
   "outputs": [],
   "source": []
  },
  {
   "cell_type": "code",
   "execution_count": 98,
   "id": "92cb042c",
   "metadata": {
    "scrolled": true
   },
   "outputs": [],
   "source": [
    "l = np.random.rand(10)\n",
    "x1val = xvalues + l\n",
    "#Slightly different X data\n",
    "x1val.sort()\n"
   ]
  },
  {
   "cell_type": "code",
   "execution_count": 112,
   "id": "f94cbd74",
   "metadata": {},
   "outputs": [],
   "source": [
    "m = np.random.rand(10)\n",
    "y1val = yvalues + m\n",
    "#Slightly different Y data\n",
    "y1val.sort()"
   ]
  },
  {
   "cell_type": "code",
   "execution_count": 113,
   "id": "fa379b73",
   "metadata": {},
   "outputs": [
    {
     "data": {
      "text/plain": [
       "[<matplotlib.lines.Line2D at 0x2863cf7b0a0>]"
      ]
     },
     "execution_count": 113,
     "metadata": {},
     "output_type": "execute_result"
    },
    {
     "data": {
      "image/png": "[encoded data removed]",
      "text/plain": [
       "<Figure size 432x288 with 1 Axes>"
      ]
     },
     "metadata": {
      "needs_background": "light"
     },
     "output_type": "display_data"
    }
   ],
   "source": [
    "xvalues.sort()\n",
    "yvalues.sort()\n",
    "plt.plot(xvalues, yvalues)"
   ]
  },
  {
   "cell_type": "code",
   "execution_count": null,
   "id": "0b0b38b3",
   "metadata": {},
   "outputs": [],
   "source": []
  },
  {
   "cell_type": "code",
   "execution_count": null,
   "id": "d530b288",
   "metadata": {},
   "outputs": [],
   "source": []
  },
  {
   "cell_type": "code",
   "execution_count": 114,
   "id": "e77987e2",
   "metadata": {},
   "outputs": [
    {
     "data": {
      "text/plain": [
       "[<matplotlib.lines.Line2D at 0x2863cfd5700>]"
      ]
     },
     "execution_count": 114,
     "metadata": {},
     "output_type": "execute_result"
    },
    {
     "data": {
      "image/png": "[encoded data removed]",
      "text/plain": [
       "<Figure size 432x288 with 1 Axes>"
      ]
     },
     "metadata": {
      "needs_background": "light"
     },
     "output_type": "display_data"
    }
   ],
   "source": [
    "plt.plot(xvalues,yvalues, color='r')\n",
    "plt.plot(x1val, y1val, color = 'g')"
   ]
  },
  {
   "cell_type": "markdown",
   "id": "b65484e6",
   "metadata": {},
   "source": [
    "Comparision between the graphs "
   ]
  },
  {
   "cell_type": "code",
   "execution_count": 115,
   "id": "cedfad78",
   "metadata": {},
   "outputs": [],
   "source": [
    "sqdist = (xvalues-x1val)**2 + (yvalues-y1val)**2"
   ]
  },
  {
   "cell_type": "code",
   "execution_count": 116,
   "id": "8aea20e4",
   "metadata": {},
   "outputs": [],
   "source": [
    "dist = np.sqrt(sqdist)"
   ]
  },
  {
   "cell_type": "code",
   "execution_count": 117,
   "id": "021cb2d9",
   "metadata": {},
   "outputs": [
    {
     "data": {
      "text/plain": [
       "0.7886149124335842"
      ]
     },
     "execution_count": 117,
     "metadata": {},
     "output_type": "execute_result"
    }
   ],
   "source": [
    "dist.mean() #The average distance between similar points"
   ]
  },
  {
   "cell_type": "code",
   "execution_count": 111,
   "id": "b3bfc185",
   "metadata": {},
   "outputs": [
    {
     "data": {
      "text/plain": [
       "0.058621685143496784"
      ]
     },
     "execution_count": 111,
     "metadata": {},
     "output_type": "execute_result"
    }
   ],
   "source": [
    "variance(dist) #The variance of the distance"
   ]
  },
  {
   "cell_type": "code",
   "execution_count": null,
   "id": "9cc37522",
   "metadata": {},
   "outputs": [],
   "source": []
  },
  {
   "cell_type": "code",
   "execution_count": null,
   "id": "3d8677a2",
   "metadata": {},
   "outputs": [],
   "source": []
  }
 ],
 "metadata": {
  "kernelspec": {
   "display_name": "Python 3",
   "language": "python",
   "name": "python3"
  },
  "language_info": {
   "codemirror_mode": {
    "name": "ipython",
    "version": 3
   },
   "file_extension": ".py",
   "mimetype": "text/x-python",
   "name": "python",
   "nbconvert_exporter": "python",
   "pygments_lexer": "ipython3",
   "version": "3.8.8"
  }
 },
 "nbformat": 4,
 "nbformat_minor": 5
}
